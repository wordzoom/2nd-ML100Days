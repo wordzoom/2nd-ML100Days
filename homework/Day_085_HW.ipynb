{
 "cells": [
  {
   "cell_type": "markdown",
   "metadata": {},
   "source": [
    "## Work\n",
    "1. 試改變 monitor \"Validation Accuracy\" 並比較結果\n",
    "2. 調整 earlystop 的等待次數至 10, 25 並比較結果"
   ]
  },
  {
   "cell_type": "code",
   "execution_count": 1,
   "metadata": {},
   "outputs": [
    {
     "name": "stderr",
     "output_type": "stream",
     "text": [
      "Using TensorFlow backend.\n"
     ]
    }
   ],
   "source": [
    "import os\n",
    "import keras\n",
    "import matplotlib.pyplot as plt\n",
    "%matplotlib inline\n",
    "\n",
    "\n",
    "# Disable GPU\n",
    "os.environ[\"CUDA_VISIBLE_DEVICES\"] = \"\""
   ]
  },
  {
   "cell_type": "code",
   "execution_count": 2,
   "metadata": {},
   "outputs": [],
   "source": [
    "train, test = keras.datasets.cifar10.load_data()"
   ]
  },
  {
   "cell_type": "code",
   "execution_count": 3,
   "metadata": {},
   "outputs": [],
   "source": [
    "## 資料前處理\n",
    "def preproc_x(x, flatten=True):\n",
    "    x = x / 255.\n",
    "    if flatten:\n",
    "        x = x.reshape((len(x), -1))\n",
    "    return x\n",
    "\n",
    "def preproc_y(y, num_classes=10):\n",
    "    if y.shape[-1] == 1:\n",
    "        y = keras.utils.to_categorical(y, num_classes)\n",
    "    return y    "
   ]
  },
  {
   "cell_type": "code",
   "execution_count": 4,
   "metadata": {},
   "outputs": [],
   "source": [
    "x_train, y_train = train\n",
    "x_test, y_test = test\n",
    "\n",
    "# Preproc the inputs\n",
    "x_train = preproc_x(x_train)\n",
    "x_test = preproc_x(x_test)\n",
    "\n",
    "# Preprc the outputs\n",
    "y_train = preproc_y(y_train)\n",
    "y_test = preproc_y(y_test)"
   ]
  },
  {
   "cell_type": "code",
   "execution_count": 5,
   "metadata": {},
   "outputs": [],
   "source": [
    "from keras.layers import BatchNormalization\n",
    "\n",
    "\"\"\"\n",
    "建立神經網路，並加入 BN layer\n",
    "\"\"\"\n",
    "def build_mlp(input_shape, output_units=10, num_neurons=[512, 256, 128]):\n",
    "    input_layer = keras.layers.Input(input_shape)\n",
    "    \n",
    "    for i, n_units in enumerate(num_neurons):\n",
    "        if i == 0:\n",
    "            x = keras.layers.Dense(units=n_units, \n",
    "                                   activation=\"relu\", \n",
    "                                   name=\"hidden_layer\"+str(i+1))(input_layer)\n",
    "            x = BatchNormalization()(x)\n",
    "        else:\n",
    "            x = keras.layers.Dense(units=n_units, \n",
    "                                   activation=\"relu\", \n",
    "                                   name=\"hidden_layer\"+str(i+1))(x)\n",
    "            x = BatchNormalization()(x)\n",
    "    \n",
    "    out = keras.layers.Dense(units=output_units, activation=\"softmax\", name=\"output\")(x)\n",
    "    \n",
    "    model = keras.models.Model(inputs=[input_layer], outputs=[out])\n",
    "    return model"
   ]
  },
  {
   "cell_type": "code",
   "execution_count": 6,
   "metadata": {},
   "outputs": [],
   "source": [
    "\"\"\"Code Here\n",
    "設定超參數\n",
    "\"\"\"\n",
    "LEARNING_RATE = 1e-3\n",
    "EPOCHS = 50\n",
    "BATCH_SIZE = 1024\n",
    "MOMENTUM = 0.95"
   ]
  },
  {
   "cell_type": "code",
   "execution_count": 7,
   "metadata": {},
   "outputs": [
    {
     "name": "stderr",
     "output_type": "stream",
     "text": [
      "WARNING: Logging before flag parsing goes to stderr.\n",
      "W0831 16:13:41.000531 15396 deprecation_wrapper.py:119] From C:\\Users\\ELWIN_NB_PS63\\Anaconda3\\lib\\site-packages\\keras\\backend\\tensorflow_backend.py:74: The name tf.get_default_graph is deprecated. Please use tf.compat.v1.get_default_graph instead.\n",
      "\n",
      "W0831 16:13:41.143932 15396 deprecation_wrapper.py:119] From C:\\Users\\ELWIN_NB_PS63\\Anaconda3\\lib\\site-packages\\keras\\backend\\tensorflow_backend.py:517: The name tf.placeholder is deprecated. Please use tf.compat.v1.placeholder instead.\n",
      "\n",
      "W0831 16:13:41.161392 15396 deprecation_wrapper.py:119] From C:\\Users\\ELWIN_NB_PS63\\Anaconda3\\lib\\site-packages\\keras\\backend\\tensorflow_backend.py:4138: The name tf.random_uniform is deprecated. Please use tf.random.uniform instead.\n",
      "\n",
      "W0831 16:13:41.358139 15396 deprecation_wrapper.py:119] From C:\\Users\\ELWIN_NB_PS63\\Anaconda3\\lib\\site-packages\\keras\\backend\\tensorflow_backend.py:133: The name tf.placeholder_with_default is deprecated. Please use tf.compat.v1.placeholder_with_default instead.\n",
      "\n",
      "W0831 16:13:41.708359 15396 deprecation_wrapper.py:119] From C:\\Users\\ELWIN_NB_PS63\\Anaconda3\\lib\\site-packages\\keras\\optimizers.py:790: The name tf.train.Optimizer is deprecated. Please use tf.compat.v1.train.Optimizer instead.\n",
      "\n",
      "W0831 16:13:41.722279 15396 deprecation_wrapper.py:119] From C:\\Users\\ELWIN_NB_PS63\\Anaconda3\\lib\\site-packages\\keras\\backend\\tensorflow_backend.py:3295: The name tf.log is deprecated. Please use tf.math.log instead.\n",
      "\n"
     ]
    },
    {
     "name": "stdout",
     "output_type": "stream",
     "text": [
      "_________________________________________________________________\n",
      "Layer (type)                 Output Shape              Param #   \n",
      "=================================================================\n",
      "input_1 (InputLayer)         (None, 3072)              0         \n",
      "_________________________________________________________________\n",
      "hidden_layer1 (Dense)        (None, 512)               1573376   \n",
      "_________________________________________________________________\n",
      "batch_normalization_1 (Batch (None, 512)               2048      \n",
      "_________________________________________________________________\n",
      "hidden_layer2 (Dense)        (None, 256)               131328    \n",
      "_________________________________________________________________\n",
      "batch_normalization_2 (Batch (None, 256)               1024      \n",
      "_________________________________________________________________\n",
      "hidden_layer3 (Dense)        (None, 128)               32896     \n",
      "_________________________________________________________________\n",
      "batch_normalization_3 (Batch (None, 128)               512       \n",
      "_________________________________________________________________\n",
      "output (Dense)               (None, 10)                1290      \n",
      "=================================================================\n",
      "Total params: 1,742,474\n",
      "Trainable params: 1,740,682\n",
      "Non-trainable params: 1,792\n",
      "_________________________________________________________________\n"
     ]
    },
    {
     "name": "stderr",
     "output_type": "stream",
     "text": [
      "W0831 16:13:41.975201 15396 deprecation.py:323] From C:\\Users\\ELWIN_NB_PS63\\Anaconda3\\lib\\site-packages\\tensorflow\\python\\ops\\math_grad.py:1250: add_dispatch_support.<locals>.wrapper (from tensorflow.python.ops.array_ops) is deprecated and will be removed in a future version.\n",
      "Instructions for updating:\n",
      "Use tf.where in 2.0, which has the same broadcast rule as np.where\n"
     ]
    },
    {
     "name": "stdout",
     "output_type": "stream",
     "text": [
      "Train on 50000 samples, validate on 10000 samples\n",
      "Epoch 1/50\n",
      "50000/50000 [==============================] - 14s 285us/step - loss: 2.2255 - acc: 0.2618 - val_loss: 2.2353 - val_acc: 0.3133\n",
      "Epoch 2/50\n",
      "50000/50000 [==============================] - 4s 75us/step - loss: 1.7363 - acc: 0.3928 - val_loss: 1.8152 - val_acc: 0.3827\n",
      "Epoch 3/50\n",
      "50000/50000 [==============================] - 4s 78us/step - loss: 1.6157 - acc: 0.4340 - val_loss: 1.6778 - val_acc: 0.4143\n",
      "Epoch 4/50\n",
      "50000/50000 [==============================] - 4s 79us/step - loss: 1.5456 - acc: 0.4599 - val_loss: 1.6306 - val_acc: 0.4282\n",
      "Epoch 5/50\n",
      "50000/50000 [==============================] - 4s 77us/step - loss: 1.4928 - acc: 0.4774 - val_loss: 1.5953 - val_acc: 0.4415\n",
      "Epoch 6/50\n",
      "50000/50000 [==============================] - 4s 75us/step - loss: 1.4497 - acc: 0.4931 - val_loss: 1.5825 - val_acc: 0.4473\n",
      "Epoch 7/50\n",
      "50000/50000 [==============================] - 4s 80us/step - loss: 1.4096 - acc: 0.5065 - val_loss: 1.5721 - val_acc: 0.4521\n",
      "Epoch 8/50\n",
      "50000/50000 [==============================] - 4s 81us/step - loss: 1.3751 - acc: 0.5201 - val_loss: 1.5411 - val_acc: 0.4658\n",
      "Epoch 9/50\n",
      "50000/50000 [==============================] - 4s 78us/step - loss: 1.3427 - acc: 0.5319 - val_loss: 1.5224 - val_acc: 0.4623\n",
      "Epoch 10/50\n",
      "50000/50000 [==============================] - 4s 75us/step - loss: 1.3140 - acc: 0.5412 - val_loss: 1.5114 - val_acc: 0.4704\n",
      "Epoch 11/50\n",
      "50000/50000 [==============================] - 4s 78us/step - loss: 1.2866 - acc: 0.5519 - val_loss: 1.5047 - val_acc: 0.4737\n",
      "Epoch 12/50\n",
      "50000/50000 [==============================] - 4s 80us/step - loss: 1.2608 - acc: 0.5617 - val_loss: 1.4962 - val_acc: 0.4757\n",
      "Epoch 13/50\n",
      "50000/50000 [==============================] - 4s 80us/step - loss: 1.2373 - acc: 0.5698 - val_loss: 1.4759 - val_acc: 0.4834\n",
      "Epoch 14/50\n",
      "50000/50000 [==============================] - 4s 79us/step - loss: 1.2110 - acc: 0.5796 - val_loss: 1.4998 - val_acc: 0.4764\n",
      "Epoch 15/50\n",
      "50000/50000 [==============================] - 4s 87us/step - loss: 1.1877 - acc: 0.5879 - val_loss: 1.4656 - val_acc: 0.4850\n",
      "Epoch 16/50\n",
      "50000/50000 [==============================] - 4s 79us/step - loss: 1.1629 - acc: 0.5977 - val_loss: 1.4668 - val_acc: 0.4860\n",
      "Epoch 17/50\n",
      "50000/50000 [==============================] - 4s 75us/step - loss: 1.1404 - acc: 0.6065 - val_loss: 1.4595 - val_acc: 0.4897\n",
      "Epoch 18/50\n",
      "50000/50000 [==============================] - 4s 75us/step - loss: 1.1170 - acc: 0.6141 - val_loss: 1.4644 - val_acc: 0.4891\n",
      "Epoch 19/50\n",
      "50000/50000 [==============================] - 4s 78us/step - loss: 1.0961 - acc: 0.6241 - val_loss: 1.4622 - val_acc: 0.4870\n",
      "Epoch 20/50\n",
      "50000/50000 [==============================] - 4s 78us/step - loss: 1.0745 - acc: 0.6327 - val_loss: 1.4485 - val_acc: 0.4939\n",
      "Epoch 21/50\n",
      "50000/50000 [==============================] - 4s 78us/step - loss: 1.0519 - acc: 0.6403 - val_loss: 1.4570 - val_acc: 0.4902\n",
      "Epoch 22/50\n",
      "50000/50000 [==============================] - 4s 78us/step - loss: 1.0315 - acc: 0.6491 - val_loss: 1.4661 - val_acc: 0.4863\n",
      "Epoch 23/50\n",
      "50000/50000 [==============================] - 4s 77us/step - loss: 1.0107 - acc: 0.6544 - val_loss: 1.4653 - val_acc: 0.4905\n",
      "Epoch 24/50\n",
      "50000/50000 [==============================] - 4s 80us/step - loss: 0.9910 - acc: 0.6647 - val_loss: 1.4735 - val_acc: 0.4887\n",
      "Epoch 25/50\n",
      "50000/50000 [==============================] - 4s 76us/step - loss: 0.9702 - acc: 0.6724 - val_loss: 1.4656 - val_acc: 0.4915\n",
      "Epoch 26/50\n",
      "50000/50000 [==============================] - 4s 75us/step - loss: 0.9495 - acc: 0.6799 - val_loss: 1.4845 - val_acc: 0.4943\n",
      "Epoch 27/50\n",
      "50000/50000 [==============================] - 4s 76us/step - loss: 0.9300 - acc: 0.6860 - val_loss: 1.4777 - val_acc: 0.4938\n",
      "Epoch 28/50\n",
      "50000/50000 [==============================] - 4s 80us/step - loss: 0.9103 - acc: 0.6963 - val_loss: 1.4906 - val_acc: 0.4920\n",
      "Epoch 29/50\n",
      "50000/50000 [==============================] - 4s 75us/step - loss: 0.8890 - acc: 0.7049 - val_loss: 1.4782 - val_acc: 0.4962\n",
      "Epoch 30/50\n",
      "50000/50000 [==============================] - 4s 72us/step - loss: 0.8713 - acc: 0.7116 - val_loss: 1.4885 - val_acc: 0.4973\n",
      "Epoch 31/50\n",
      "50000/50000 [==============================] - 4s 75us/step - loss: 0.8514 - acc: 0.7190 - val_loss: 1.4914 - val_acc: 0.4983\n",
      "Epoch 32/50\n",
      "50000/50000 [==============================] - 4s 75us/step - loss: 0.8310 - acc: 0.7268 - val_loss: 1.5041 - val_acc: 0.4943\n",
      "Epoch 33/50\n",
      "50000/50000 [==============================] - 4s 79us/step - loss: 0.8122 - acc: 0.7338 - val_loss: 1.5148 - val_acc: 0.4906\n",
      "Epoch 34/50\n",
      "50000/50000 [==============================] - 4s 74us/step - loss: 0.7933 - acc: 0.7440 - val_loss: 1.5039 - val_acc: 0.5010\n",
      "Epoch 35/50\n",
      "50000/50000 [==============================] - 4s 78us/step - loss: 0.7732 - acc: 0.7511 - val_loss: 1.5203 - val_acc: 0.5015\n",
      "Epoch 36/50\n",
      "50000/50000 [==============================] - 4s 76us/step - loss: 0.7559 - acc: 0.7580 - val_loss: 1.5296 - val_acc: 0.4964\n",
      "Epoch 37/50\n",
      "50000/50000 [==============================] - 4s 73us/step - loss: 0.7364 - acc: 0.7658 - val_loss: 1.5292 - val_acc: 0.4982\n",
      "Epoch 38/50\n",
      "50000/50000 [==============================] - 4s 75us/step - loss: 0.7200 - acc: 0.7739 - val_loss: 1.5392 - val_acc: 0.4944\n",
      "Epoch 39/50\n",
      "50000/50000 [==============================] - 4s 78us/step - loss: 0.6988 - acc: 0.7810 - val_loss: 1.5532 - val_acc: 0.4905\n",
      "Epoch 40/50\n",
      "50000/50000 [==============================] - 4s 80us/step - loss: 0.6784 - acc: 0.7897 - val_loss: 1.5624 - val_acc: 0.4921\n",
      "Epoch 41/50\n",
      "50000/50000 [==============================] - 4s 80us/step - loss: 0.6628 - acc: 0.7955 - val_loss: 1.5762 - val_acc: 0.4928\n",
      "Epoch 42/50\n",
      "50000/50000 [==============================] - 4s 75us/step - loss: 0.6455 - acc: 0.8020 - val_loss: 1.5700 - val_acc: 0.4940\n",
      "Epoch 43/50\n",
      "50000/50000 [==============================] - 4s 71us/step - loss: 0.6278 - acc: 0.8095 - val_loss: 1.5826 - val_acc: 0.4917\n",
      "Epoch 44/50\n",
      "50000/50000 [==============================] - 4s 73us/step - loss: 0.6081 - acc: 0.8173 - val_loss: 1.5931 - val_acc: 0.4947\n",
      "Epoch 45/50\n",
      "50000/50000 [==============================] - 4s 74us/step - loss: 0.5914 - acc: 0.8245 - val_loss: 1.6002 - val_acc: 0.4960\n",
      "Epoch 00045: early stopping\n"
     ]
    }
   ],
   "source": [
    "# 載入 Callbacks\n",
    "\"\"\"Code Here\n",
    "設定 callbacks: Earlystop\n",
    "\"\"\"\n",
    "from keras.callbacks import EarlyStopping\n",
    "\n",
    "earlystop = EarlyStopping(monitor=\"val_acc\", \n",
    "                          patience=10, \n",
    "                          verbose=1\n",
    "                          )\n",
    "results = {}\n",
    "\"\"\"Code Here\n",
    "撰寫你的訓練流程並將結果用 dictionary 紀錄\n",
    "\"\"\"\n",
    "model = build_mlp(input_shape=x_train.shape[1:])\n",
    "model.summary()\n",
    "optimizer = keras.optimizers.SGD(lr=LEARNING_RATE, nesterov=True, momentum=MOMENTUM)\n",
    "model.compile(loss=\"categorical_crossentropy\", metrics=[\"accuracy\"], optimizer=optimizer)\n",
    "\n",
    "model.fit(x_train, y_train, \n",
    "          epochs=EPOCHS, \n",
    "          batch_size=BATCH_SIZE, \n",
    "          validation_data=(x_test, y_test), \n",
    "          shuffle=True,\n",
    "          callbacks=[earlystop]\n",
    "         )\n",
    "\n",
    "# Collect results\n",
    "train_loss = model.history.history[\"loss\"]\n",
    "valid_loss = model.history.history[\"val_loss\"]\n",
    "train_acc = model.history.history[\"acc\"]\n",
    "valid_acc = model.history.history[\"val_acc\"]"
   ]
  },
  {
   "cell_type": "code",
   "execution_count": 8,
   "metadata": {},
   "outputs": [
    {
     "data": {
      "image/png": "[encoded data removed]",
      "text/plain": [
       "<Figure size 432x288 with 1 Axes>"
      ]
     },
     "metadata": {
      "needs_background": "light"
     },
     "output_type": "display_data"
    },
    {
     "data": {
      "image/png": "[encoded data removed]",
      "text/plain": [
       "<Figure size 432x288 with 1 Axes>"
      ]
     },
     "metadata": {
      "needs_background": "light"
     },
     "output_type": "display_data"
    }
   ],
   "source": [
    "import matplotlib.pyplot as plt\n",
    "%matplotlib inline\n",
    "\"\"\"Code Here\n",
    "將結果繪出\n",
    "\"\"\"\n",
    "plt.plot(range(len(train_loss)), train_loss, label=\"train loss\")\n",
    "plt.plot(range(len(valid_loss)), valid_loss, label=\"valid loss\")\n",
    "plt.legend()\n",
    "plt.title(\"Loss\")\n",
    "plt.show()\n",
    "\n",
    "plt.plot(range(len(train_acc)), train_acc, label=\"train accuracy\")\n",
    "plt.plot(range(len(valid_acc)), valid_acc, label=\"valid accuracy\")\n",
    "plt.legend()\n",
    "plt.title(\"Accuracy\")\n",
    "plt.show()"
   ]
  },
  {
   "cell_type": "markdown",
   "metadata": {},
   "source": [
    "patience=25"
   ]
  },
  {
   "cell_type": "code",
   "execution_count": 9,
   "metadata": {},
   "outputs": [
    {
     "name": "stdout",
     "output_type": "stream",
     "text": [
      "_________________________________________________________________\n",
      "Layer (type)                 Output Shape              Param #   \n",
      "=================================================================\n",
      "input_2 (InputLayer)         (None, 3072)              0         \n",
      "_________________________________________________________________\n",
      "hidden_layer1 (Dense)        (None, 512)               1573376   \n",
      "_________________________________________________________________\n",
      "batch_normalization_4 (Batch (None, 512)               2048      \n",
      "_________________________________________________________________\n",
      "hidden_layer2 (Dense)        (None, 256)               131328    \n",
      "_________________________________________________________________\n",
      "batch_normalization_5 (Batch (None, 256)               1024      \n",
      "_________________________________________________________________\n",
      "hidden_layer3 (Dense)        (None, 128)               32896     \n",
      "_________________________________________________________________\n",
      "batch_normalization_6 (Batch (None, 128)               512       \n",
      "_________________________________________________________________\n",
      "output (Dense)               (None, 10)                1290      \n",
      "=================================================================\n",
      "Total params: 1,742,474\n",
      "Trainable params: 1,740,682\n",
      "Non-trainable params: 1,792\n",
      "_________________________________________________________________\n",
      "Train on 50000 samples, validate on 10000 samples\n",
      "Epoch 1/50\n",
      "50000/50000 [==============================] - 6s 120us/step - loss: 2.1995 - acc: 0.2753 - val_loss: 2.1153 - val_acc: 0.3186\n",
      "Epoch 2/50\n",
      "50000/50000 [==============================] - 3s 67us/step - loss: 1.7479 - acc: 0.3908 - val_loss: 1.8496 - val_acc: 0.3600\n",
      "Epoch 3/50\n",
      "50000/50000 [==============================] - 4s 77us/step - loss: 1.6187 - acc: 0.4354 - val_loss: 1.7143 - val_acc: 0.4037\n",
      "Epoch 4/50\n",
      "50000/50000 [==============================] - 4s 74us/step - loss: 1.5430 - acc: 0.4610 - val_loss: 1.6475 - val_acc: 0.4171\n",
      "Epoch 5/50\n",
      "50000/50000 [==============================] - 4s 78us/step - loss: 1.4871 - acc: 0.4788 - val_loss: 1.6065 - val_acc: 0.4381\n",
      "Epoch 6/50\n",
      "50000/50000 [==============================] - 3s 70us/step - loss: 1.4425 - acc: 0.4972 - val_loss: 1.5843 - val_acc: 0.4403\n",
      "Epoch 7/50\n",
      "50000/50000 [==============================] - 4s 73us/step - loss: 1.4016 - acc: 0.5108 - val_loss: 1.5585 - val_acc: 0.4504\n",
      "Epoch 8/50\n",
      "50000/50000 [==============================] - 4s 83us/step - loss: 1.3651 - acc: 0.5240 - val_loss: 1.5332 - val_acc: 0.4553\n",
      "Epoch 9/50\n",
      "50000/50000 [==============================] - 4s 87us/step - loss: 1.3331 - acc: 0.5375 - val_loss: 1.5175 - val_acc: 0.4652\n",
      "Epoch 10/50\n",
      "50000/50000 [==============================] - 4s 90us/step - loss: 1.3028 - acc: 0.5467 - val_loss: 1.5167 - val_acc: 0.4651\n",
      "Epoch 11/50\n",
      "50000/50000 [==============================] - 4s 86us/step - loss: 1.2730 - acc: 0.5592 - val_loss: 1.5007 - val_acc: 0.4706\n",
      "Epoch 12/50\n",
      "50000/50000 [==============================] - 4s 84us/step - loss: 1.2473 - acc: 0.5695 - val_loss: 1.4978 - val_acc: 0.4700\n",
      "Epoch 13/50\n",
      "50000/50000 [==============================] - 5s 91us/step - loss: 1.2220 - acc: 0.5788 - val_loss: 1.4834 - val_acc: 0.4794\n",
      "Epoch 14/50\n",
      "50000/50000 [==============================] - 4s 74us/step - loss: 1.1976 - acc: 0.5882 - val_loss: 1.4874 - val_acc: 0.4747\n",
      "Epoch 15/50\n",
      "50000/50000 [==============================] - 4s 72us/step - loss: 1.1716 - acc: 0.5973 - val_loss: 1.4823 - val_acc: 0.4833\n",
      "Epoch 16/50\n",
      "50000/50000 [==============================] - 3s 70us/step - loss: 1.1476 - acc: 0.6062 - val_loss: 1.4806 - val_acc: 0.4796\n",
      "Epoch 17/50\n",
      "50000/50000 [==============================] - 4s 71us/step - loss: 1.1246 - acc: 0.6146 - val_loss: 1.4690 - val_acc: 0.4840\n",
      "Epoch 18/50\n",
      "50000/50000 [==============================] - 4s 72us/step - loss: 1.1029 - acc: 0.6225 - val_loss: 1.4698 - val_acc: 0.4838\n",
      "Epoch 19/50\n",
      "50000/50000 [==============================] - 4s 75us/step - loss: 1.0824 - acc: 0.6313 - val_loss: 1.4713 - val_acc: 0.4854\n",
      "Epoch 20/50\n",
      "50000/50000 [==============================] - 4s 76us/step - loss: 1.0598 - acc: 0.6407 - val_loss: 1.4648 - val_acc: 0.4904\n",
      "Epoch 21/50\n",
      "50000/50000 [==============================] - 4s 83us/step - loss: 1.0381 - acc: 0.6495 - val_loss: 1.4546 - val_acc: 0.4924\n",
      "Epoch 22/50\n",
      "50000/50000 [==============================] - 4s 73us/step - loss: 1.0152 - acc: 0.6556 - val_loss: 1.4770 - val_acc: 0.4869\n",
      "Epoch 23/50\n",
      "50000/50000 [==============================] - 4s 76us/step - loss: 0.9963 - acc: 0.6641 - val_loss: 1.4780 - val_acc: 0.4878\n",
      "Epoch 24/50\n",
      "50000/50000 [==============================] - 4s 79us/step - loss: 0.9764 - acc: 0.6718 - val_loss: 1.4739 - val_acc: 0.4897\n",
      "Epoch 25/50\n",
      "50000/50000 [==============================] - 4s 75us/step - loss: 0.9532 - acc: 0.6820 - val_loss: 1.4680 - val_acc: 0.4927\n",
      "Epoch 26/50\n",
      "50000/50000 [==============================] - 4s 78us/step - loss: 0.9324 - acc: 0.6897 - val_loss: 1.4768 - val_acc: 0.4925\n",
      "Epoch 27/50\n",
      "50000/50000 [==============================] - 4s 75us/step - loss: 0.9137 - acc: 0.6955 - val_loss: 1.4711 - val_acc: 0.4963\n",
      "Epoch 28/50\n",
      "50000/50000 [==============================] - 4s 80us/step - loss: 0.8943 - acc: 0.7028 - val_loss: 1.4823 - val_acc: 0.4936\n",
      "Epoch 29/50\n",
      "50000/50000 [==============================] - 4s 82us/step - loss: 0.8734 - acc: 0.7112 - val_loss: 1.4953 - val_acc: 0.4896\n",
      "Epoch 30/50\n",
      "50000/50000 [==============================] - 4s 78us/step - loss: 0.8517 - acc: 0.7208 - val_loss: 1.4947 - val_acc: 0.4911\n",
      "Epoch 31/50\n",
      "50000/50000 [==============================] - 4s 71us/step - loss: 0.8343 - acc: 0.7282 - val_loss: 1.5125 - val_acc: 0.4914\n",
      "Epoch 32/50\n",
      "50000/50000 [==============================] - 4s 73us/step - loss: 0.8147 - acc: 0.7343 - val_loss: 1.5130 - val_acc: 0.4926\n",
      "Epoch 33/50\n",
      "50000/50000 [==============================] - 4s 82us/step - loss: 0.7940 - acc: 0.7435 - val_loss: 1.5205 - val_acc: 0.4880\n",
      "Epoch 34/50\n",
      "50000/50000 [==============================] - 4s 79us/step - loss: 0.7750 - acc: 0.7489 - val_loss: 1.5316 - val_acc: 0.4908\n",
      "Epoch 35/50\n",
      "50000/50000 [==============================] - 4s 75us/step - loss: 0.7551 - acc: 0.7581 - val_loss: 1.5413 - val_acc: 0.4894\n",
      "Epoch 36/50\n",
      "50000/50000 [==============================] - 4s 78us/step - loss: 0.7335 - acc: 0.7669 - val_loss: 1.5596 - val_acc: 0.4839\n",
      "Epoch 37/50\n",
      "50000/50000 [==============================] - 4s 78us/step - loss: 0.7173 - acc: 0.7745 - val_loss: 1.5557 - val_acc: 0.4901\n",
      "Epoch 38/50\n",
      "50000/50000 [==============================] - 4s 82us/step - loss: 0.6996 - acc: 0.7807 - val_loss: 1.5559 - val_acc: 0.4968\n",
      "Epoch 39/50\n",
      "50000/50000 [==============================] - 4s 74us/step - loss: 0.6798 - acc: 0.7891 - val_loss: 1.5664 - val_acc: 0.4928\n",
      "Epoch 40/50\n",
      "50000/50000 [==============================] - 4s 75us/step - loss: 0.6620 - acc: 0.7960 - val_loss: 1.5677 - val_acc: 0.4891\n",
      "Epoch 41/50\n",
      "50000/50000 [==============================] - 4s 77us/step - loss: 0.6448 - acc: 0.8008 - val_loss: 1.5931 - val_acc: 0.4896\n",
      "Epoch 42/50\n",
      "50000/50000 [==============================] - 4s 82us/step - loss: 0.6262 - acc: 0.8096 - val_loss: 1.5995 - val_acc: 0.4852\n",
      "Epoch 43/50\n",
      "50000/50000 [==============================] - 4s 80us/step - loss: 0.6075 - acc: 0.8169 - val_loss: 1.6539 - val_acc: 0.4816\n",
      "Epoch 44/50\n",
      "50000/50000 [==============================] - 4s 77us/step - loss: 0.5878 - acc: 0.8254 - val_loss: 1.6222 - val_acc: 0.4844\n",
      "Epoch 45/50\n",
      "50000/50000 [==============================] - 4s 88us/step - loss: 0.5719 - acc: 0.8322 - val_loss: 1.6287 - val_acc: 0.4934\n",
      "Epoch 46/50\n",
      "50000/50000 [==============================] - 4s 86us/step - loss: 0.5550 - acc: 0.8368 - val_loss: 1.6344 - val_acc: 0.4854\n",
      "Epoch 47/50\n",
      "50000/50000 [==============================] - 4s 79us/step - loss: 0.5402 - acc: 0.8429 - val_loss: 1.6655 - val_acc: 0.4868\n",
      "Epoch 48/50\n",
      "50000/50000 [==============================] - 4s 86us/step - loss: 0.5228 - acc: 0.8501 - val_loss: 1.6627 - val_acc: 0.4906\n",
      "Epoch 49/50\n",
      "50000/50000 [==============================] - 4s 79us/step - loss: 0.5062 - acc: 0.8580 - val_loss: 1.6931 - val_acc: 0.4774\n"
     ]
    },
    {
     "name": "stdout",
     "output_type": "stream",
     "text": [
      "Epoch 50/50\n",
      "50000/50000 [==============================] - 4s 78us/step - loss: 0.4897 - acc: 0.8645 - val_loss: 1.6994 - val_acc: 0.4873\n"
     ]
    }
   ],
   "source": [
    "# 載入 Callbacks\n",
    "\"\"\"Code Here\n",
    "設定 callbacks: Earlystop\n",
    "\"\"\"\n",
    "from keras.callbacks import EarlyStopping\n",
    "\n",
    "earlystop = EarlyStopping(monitor=\"val_acc\", \n",
    "                          patience=25, \n",
    "                          verbose=1\n",
    "                          )\n",
    "results = {}\n",
    "\"\"\"Code Here\n",
    "撰寫你的訓練流程並將結果用 dictionary 紀錄\n",
    "\"\"\"\n",
    "\n",
    "model = build_mlp(input_shape=x_train.shape[1:])\n",
    "model.summary()\n",
    "optimizer = keras.optimizers.SGD(lr=LEARNING_RATE, nesterov=True, momentum=MOMENTUM)\n",
    "model.compile(loss=\"categorical_crossentropy\", metrics=[\"accuracy\"], optimizer=optimizer)\n",
    "\n",
    "model.fit(x_train, y_train, \n",
    "          epochs=EPOCHS, \n",
    "          batch_size=BATCH_SIZE, \n",
    "          validation_data=(x_test, y_test), \n",
    "          shuffle=True,\n",
    "          callbacks=[earlystop]\n",
    "         )\n",
    "\n",
    "# Collect results\n",
    "train_loss = model.history.history[\"loss\"]\n",
    "valid_loss = model.history.history[\"val_loss\"]\n",
    "train_acc = model.history.history[\"acc\"]\n",
    "valid_acc = model.history.history[\"val_acc\"]"
   ]
  },
  {
   "cell_type": "code",
   "execution_count": 10,
   "metadata": {},
   "outputs": [
    {
     "data": {
      "image/png": "[encoded data removed]",
      "text/plain": [
       "<Figure size 432x288 with 1 Axes>"
      ]
     },
     "metadata": {
      "needs_background": "light"
     },
     "output_type": "display_data"
    },
    {
     "data": {
      "image/png": "[encoded data removed]",
      "text/plain": [
       "<Figure size 432x288 with 1 Axes>"
      ]
     },
     "metadata": {
      "needs_background": "light"
     },
     "output_type": "display_data"
    }
   ],
   "source": [
    "import matplotlib.pyplot as plt\n",
    "%matplotlib inline\n",
    "\n",
    "plt.plot(range(len(train_loss)), train_loss, label=\"train loss\")\n",
    "plt.plot(range(len(valid_loss)), valid_loss, label=\"valid loss\")\n",
    "plt.legend()\n",
    "plt.title(\"Loss\")\n",
    "plt.show()\n",
    "\n",
    "plt.plot(range(len(train_acc)), train_acc, label=\"train accuracy\")\n",
    "plt.plot(range(len(valid_acc)), valid_acc, label=\"valid accuracy\")\n",
    "plt.legend()\n",
    "plt.title(\"Accuracy\")\n",
    "plt.show()"
   ]
  },
  {
   "cell_type": "code",
   "execution_count": null,
   "metadata": {},
   "outputs": [],
   "source": []
  }
 ],
 "metadata": {
  "kernelspec": {
   "display_name": "Python 3",
   "language": "python",
   "name": "python3"
  },
  "language_info": {
   "codemirror_mode": {
    "name": "ipython",
    "version": 3
   },
   "file_extension": ".py",
   "mimetype": "text/x-python",
   "name": "python",
   "nbconvert_exporter": "python",
   "pygments_lexer": "ipython3",
   "version": "3.7.3"
  }
 },
 "nbformat": 4,
 "nbformat_minor": 2
}
