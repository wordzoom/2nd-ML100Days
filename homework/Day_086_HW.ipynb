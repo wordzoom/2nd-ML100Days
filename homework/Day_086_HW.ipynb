{
 "cells": [
  {
   "cell_type": "markdown",
   "metadata": {},
   "source": [
    "## Work\n",
    "1. 試比較 save_best_only 與否的差異\n",
    "2. 請僅存入將 save_weights_only 設定為 True, 並嘗試 reset ipynb 並將模型與權重重新建回並預測 x_test"
   ]
  },
  {
   "cell_type": "code",
   "execution_count": 1,
   "metadata": {},
   "outputs": [
    {
     "name": "stderr",
     "output_type": "stream",
     "text": [
      "Using TensorFlow backend.\n"
     ]
    }
   ],
   "source": [
    "import os\n",
    "import keras\n",
    "\n",
    "# Disable GPU\n",
    "os.environ[\"CUDA_VISIBLE_DEVICES\"] = \"\""
   ]
  },
  {
   "cell_type": "code",
   "execution_count": 2,
   "metadata": {},
   "outputs": [],
   "source": [
    "train, test = keras.datasets.cifar10.load_data()"
   ]
  },
  {
   "cell_type": "code",
   "execution_count": 3,
   "metadata": {},
   "outputs": [],
   "source": [
    "## 資料前處理\n",
    "def preproc_x(x, flatten=True):\n",
    "    x = x / 255.\n",
    "    if flatten:\n",
    "        x = x.reshape((len(x), -1))\n",
    "    return x\n",
    "\n",
    "def preproc_y(y, num_classes=10):\n",
    "    if y.shape[-1] == 1:\n",
    "        y = keras.utils.to_categorical(y, num_classes)\n",
    "    return y    "
   ]
  },
  {
   "cell_type": "code",
   "execution_count": 4,
   "metadata": {},
   "outputs": [],
   "source": [
    "x_train, y_train = train\n",
    "x_test, y_test = test\n",
    "\n",
    "# Preproc the inputs\n",
    "x_train = preproc_x(x_train)\n",
    "x_test = preproc_x(x_test)\n",
    "\n",
    "# Preprc the outputs\n",
    "y_train = preproc_y(y_train)\n",
    "y_test = preproc_y(y_test)"
   ]
  },
  {
   "cell_type": "code",
   "execution_count": 5,
   "metadata": {},
   "outputs": [],
   "source": [
    "from keras.layers import BatchNormalization\n",
    "\n",
    "\"\"\"\n",
    "建立神經網路，並加入 BN layer\n",
    "\"\"\"\n",
    "def build_mlp(input_shape, output_units=10, num_neurons=[512, 256, 128]):\n",
    "    input_layer = keras.layers.Input(input_shape)\n",
    "    \n",
    "    for i, n_units in enumerate(num_neurons):\n",
    "        if i == 0:\n",
    "            x = keras.layers.Dense(units=n_units, \n",
    "                                   activation=\"relu\", \n",
    "                                   name=\"hidden_layer\"+str(i+1))(input_layer)\n",
    "            x = BatchNormalization()(x)\n",
    "        else:\n",
    "            x = keras.layers.Dense(units=n_units, \n",
    "                                   activation=\"relu\", \n",
    "                                   name=\"hidden_layer\"+str(i+1))(x)\n",
    "            x = BatchNormalization()(x)\n",
    "    \n",
    "    out = keras.layers.Dense(units=output_units, activation=\"softmax\", name=\"output\")(x)\n",
    "    \n",
    "    model = keras.models.Model(inputs=[input_layer], outputs=[out])\n",
    "    return model"
   ]
  },
  {
   "cell_type": "code",
   "execution_count": 6,
   "metadata": {},
   "outputs": [],
   "source": [
    "\"\"\"Code Here\n",
    "設定超參數\n",
    "\"\"\"\n",
    "LEARNING_RATE = 1e-3\n",
    "EPOCHS = 50\n",
    "BATCH_SIZE = 1024\n",
    "MOMENTUM = 0.95"
   ]
  },
  {
   "cell_type": "code",
   "execution_count": 7,
   "metadata": {
    "scrolled": false
   },
   "outputs": [
    {
     "name": "stderr",
     "output_type": "stream",
     "text": [
      "WARNING: Logging before flag parsing goes to stderr.\n",
      "W0831 16:32:09.239644  5372 deprecation_wrapper.py:119] From C:\\Users\\ELWIN_NB_PS63\\Anaconda3\\lib\\site-packages\\keras\\backend\\tensorflow_backend.py:74: The name tf.get_default_graph is deprecated. Please use tf.compat.v1.get_default_graph instead.\n",
      "\n",
      "W0831 16:32:09.254816  5372 deprecation_wrapper.py:119] From C:\\Users\\ELWIN_NB_PS63\\Anaconda3\\lib\\site-packages\\keras\\backend\\tensorflow_backend.py:517: The name tf.placeholder is deprecated. Please use tf.compat.v1.placeholder instead.\n",
      "\n",
      "W0831 16:32:09.256810  5372 deprecation_wrapper.py:119] From C:\\Users\\ELWIN_NB_PS63\\Anaconda3\\lib\\site-packages\\keras\\backend\\tensorflow_backend.py:4138: The name tf.random_uniform is deprecated. Please use tf.random.uniform instead.\n",
      "\n",
      "W0831 16:32:09.368270  5372 deprecation_wrapper.py:119] From C:\\Users\\ELWIN_NB_PS63\\Anaconda3\\lib\\site-packages\\keras\\backend\\tensorflow_backend.py:133: The name tf.placeholder_with_default is deprecated. Please use tf.compat.v1.placeholder_with_default instead.\n",
      "\n",
      "W0831 16:32:09.767949  5372 deprecation_wrapper.py:119] From C:\\Users\\ELWIN_NB_PS63\\Anaconda3\\lib\\site-packages\\keras\\optimizers.py:790: The name tf.train.Optimizer is deprecated. Please use tf.compat.v1.train.Optimizer instead.\n",
      "\n",
      "W0831 16:32:09.782625  5372 deprecation_wrapper.py:119] From C:\\Users\\ELWIN_NB_PS63\\Anaconda3\\lib\\site-packages\\keras\\backend\\tensorflow_backend.py:3295: The name tf.log is deprecated. Please use tf.math.log instead.\n",
      "\n",
      "W0831 16:32:09.935761  5372 deprecation.py:323] From C:\\Users\\ELWIN_NB_PS63\\Anaconda3\\lib\\site-packages\\tensorflow\\python\\ops\\math_grad.py:1250: add_dispatch_support.<locals>.wrapper (from tensorflow.python.ops.array_ops) is deprecated and will be removed in a future version.\n",
      "Instructions for updating:\n",
      "Use tf.where in 2.0, which has the same broadcast rule as np.where\n"
     ]
    },
    {
     "name": "stdout",
     "output_type": "stream",
     "text": [
      "_________________________________________________________________\n",
      "Layer (type)                 Output Shape              Param #   \n",
      "=================================================================\n",
      "input_1 (InputLayer)         (None, 3072)              0         \n",
      "_________________________________________________________________\n",
      "hidden_layer1 (Dense)        (None, 512)               1573376   \n",
      "_________________________________________________________________\n",
      "batch_normalization_1 (Batch (None, 512)               2048      \n",
      "_________________________________________________________________\n",
      "hidden_layer2 (Dense)        (None, 256)               131328    \n",
      "_________________________________________________________________\n",
      "batch_normalization_2 (Batch (None, 256)               1024      \n",
      "_________________________________________________________________\n",
      "hidden_layer3 (Dense)        (None, 128)               32896     \n",
      "_________________________________________________________________\n",
      "batch_normalization_3 (Batch (None, 128)               512       \n",
      "_________________________________________________________________\n",
      "output (Dense)               (None, 10)                1290      \n",
      "=================================================================\n",
      "Total params: 1,742,474\n",
      "Trainable params: 1,740,682\n",
      "Non-trainable params: 1,792\n",
      "_________________________________________________________________\n",
      "Train on 50000 samples, validate on 10000 samples\n",
      "Epoch 1/50\n",
      "50000/50000 [==============================] - 8s 166us/step - loss: 2.1998 - acc: 0.2727 - val_loss: 2.0092 - val_acc: 0.3340\n",
      "Epoch 2/50\n",
      "50000/50000 [==============================] - 4s 81us/step - loss: 1.7350 - acc: 0.3943 - val_loss: 1.8082 - val_acc: 0.3768\n",
      "Epoch 3/50\n",
      "50000/50000 [==============================] - 4s 80us/step - loss: 1.6138 - acc: 0.4342 - val_loss: 1.6896 - val_acc: 0.4101\n",
      "Epoch 4/50\n",
      "50000/50000 [==============================] - 4s 81us/step - loss: 1.5397 - acc: 0.4603 - val_loss: 1.6436 - val_acc: 0.4224\n",
      "Epoch 5/50\n",
      "50000/50000 [==============================] - 4s 83us/step - loss: 1.4864 - acc: 0.4781 - val_loss: 1.5873 - val_acc: 0.4377\n",
      "Epoch 6/50\n",
      "50000/50000 [==============================] - 4s 79us/step - loss: 1.4409 - acc: 0.4953 - val_loss: 1.5772 - val_acc: 0.4424\n",
      "Epoch 7/50\n",
      "50000/50000 [==============================] - 4s 86us/step - loss: 1.4022 - acc: 0.5081 - val_loss: 1.5464 - val_acc: 0.4545\n",
      "Epoch 8/50\n",
      "50000/50000 [==============================] - 4s 82us/step - loss: 1.3675 - acc: 0.5200 - val_loss: 1.5310 - val_acc: 0.4574\n",
      "Epoch 9/50\n",
      "50000/50000 [==============================] - 4s 76us/step - loss: 1.3353 - acc: 0.5341 - val_loss: 1.5142 - val_acc: 0.4649\n",
      "Epoch 10/50\n",
      "50000/50000 [==============================] - 4s 89us/step - loss: 1.3069 - acc: 0.5436 - val_loss: 1.5025 - val_acc: 0.4697\n",
      "Epoch 11/50\n",
      "50000/50000 [==============================] - 4s 85us/step - loss: 1.2775 - acc: 0.5562 - val_loss: 1.4894 - val_acc: 0.4734\n",
      "Epoch 12/50\n",
      "50000/50000 [==============================] - 4s 89us/step - loss: 1.2534 - acc: 0.5650 - val_loss: 1.4898 - val_acc: 0.4723\n",
      "Epoch 13/50\n",
      "50000/50000 [==============================] - 4s 77us/step - loss: 1.2274 - acc: 0.5745 - val_loss: 1.4758 - val_acc: 0.4820\n",
      "Epoch 14/50\n",
      "50000/50000 [==============================] - 4s 89us/step - loss: 1.2026 - acc: 0.5842 - val_loss: 1.4780 - val_acc: 0.4823\n",
      "Epoch 15/50\n",
      "50000/50000 [==============================] - 4s 87us/step - loss: 1.1781 - acc: 0.5925 - val_loss: 1.4752 - val_acc: 0.4848\n",
      "Epoch 16/50\n",
      "50000/50000 [==============================] - 4s 84us/step - loss: 1.1542 - acc: 0.6025 - val_loss: 1.4674 - val_acc: 0.4810\n",
      "Epoch 17/50\n",
      "50000/50000 [==============================] - 4s 73us/step - loss: 1.1322 - acc: 0.6105 - val_loss: 1.4556 - val_acc: 0.4921\n",
      "Epoch 18/50\n",
      "50000/50000 [==============================] - 4s 75us/step - loss: 1.1114 - acc: 0.6201 - val_loss: 1.4614 - val_acc: 0.4878\n",
      "Epoch 19/50\n",
      "50000/50000 [==============================] - 4s 83us/step - loss: 1.0889 - acc: 0.6274 - val_loss: 1.4557 - val_acc: 0.4952\n",
      "Epoch 20/50\n",
      "50000/50000 [==============================] - 4s 76us/step - loss: 1.0654 - acc: 0.6366 - val_loss: 1.4574 - val_acc: 0.4877\n",
      "Epoch 21/50\n",
      "50000/50000 [==============================] - 4s 81us/step - loss: 1.0443 - acc: 0.6448 - val_loss: 1.4554 - val_acc: 0.4904\n",
      "Epoch 22/50\n",
      "50000/50000 [==============================] - 4s 85us/step - loss: 1.0243 - acc: 0.6523 - val_loss: 1.4652 - val_acc: 0.4879\n",
      "Epoch 23/50\n",
      "50000/50000 [==============================] - 4s 83us/step - loss: 1.0046 - acc: 0.6593 - val_loss: 1.4644 - val_acc: 0.4915\n",
      "Epoch 24/50\n",
      "50000/50000 [==============================] - 4s 79us/step - loss: 0.9830 - acc: 0.6664 - val_loss: 1.4507 - val_acc: 0.4938\n",
      "Epoch 25/50\n",
      "50000/50000 [==============================] - 4s 80us/step - loss: 0.9624 - acc: 0.6766 - val_loss: 1.4552 - val_acc: 0.4935\n",
      "Epoch 26/50\n",
      "50000/50000 [==============================] - 4s 78us/step - loss: 0.9422 - acc: 0.6820 - val_loss: 1.4554 - val_acc: 0.4929\n",
      "Epoch 27/50\n",
      "50000/50000 [==============================] - 4s 82us/step - loss: 0.9195 - acc: 0.6911 - val_loss: 1.4637 - val_acc: 0.4923\n",
      "Epoch 28/50\n",
      "50000/50000 [==============================] - 4s 82us/step - loss: 0.9018 - acc: 0.6984 - val_loss: 1.4952 - val_acc: 0.4914\n",
      "Epoch 29/50\n",
      "50000/50000 [==============================] - 4s 74us/step - loss: 0.8827 - acc: 0.7047 - val_loss: 1.4766 - val_acc: 0.4994\n",
      "Epoch 30/50\n",
      "50000/50000 [==============================] - 4s 78us/step - loss: 0.8620 - acc: 0.7149 - val_loss: 1.4812 - val_acc: 0.4940\n",
      "Epoch 31/50\n",
      "50000/50000 [==============================] - 4s 81us/step - loss: 0.8428 - acc: 0.7208 - val_loss: 1.5009 - val_acc: 0.4901\n",
      "Epoch 32/50\n",
      "50000/50000 [==============================] - 4s 83us/step - loss: 0.8256 - acc: 0.7260 - val_loss: 1.5121 - val_acc: 0.4841\n",
      "Epoch 33/50\n",
      "50000/50000 [==============================] - 4s 78us/step - loss: 0.8041 - acc: 0.7385 - val_loss: 1.5166 - val_acc: 0.4905\n",
      "Epoch 34/50\n",
      "50000/50000 [==============================] - 4s 81us/step - loss: 0.7848 - acc: 0.7442 - val_loss: 1.5035 - val_acc: 0.4865\n",
      "Epoch 35/50\n",
      "50000/50000 [==============================] - 4s 80us/step - loss: 0.7650 - acc: 0.7518 - val_loss: 1.5103 - val_acc: 0.4897\n",
      "Epoch 36/50\n",
      "50000/50000 [==============================] - 4s 81us/step - loss: 0.7481 - acc: 0.7581 - val_loss: 1.5378 - val_acc: 0.4794\n",
      "Epoch 37/50\n",
      "50000/50000 [==============================] - 4s 79us/step - loss: 0.7294 - acc: 0.7659 - val_loss: 1.5328 - val_acc: 0.4836\n",
      "Epoch 38/50\n",
      "50000/50000 [==============================] - 4s 75us/step - loss: 0.7089 - acc: 0.7744 - val_loss: 1.5441 - val_acc: 0.4907\n",
      "Epoch 39/50\n",
      "50000/50000 [==============================] - 4s 79us/step - loss: 0.6930 - acc: 0.7807 - val_loss: 1.5494 - val_acc: 0.4835\n",
      "Epoch 40/50\n",
      "50000/50000 [==============================] - 4s 78us/step - loss: 0.6719 - acc: 0.7893 - val_loss: 1.5747 - val_acc: 0.4836\n",
      "Epoch 41/50\n",
      "50000/50000 [==============================] - 3s 70us/step - loss: 0.6540 - acc: 0.7972 - val_loss: 1.5749 - val_acc: 0.4887\n",
      "Epoch 42/50\n",
      "50000/50000 [==============================] - 4s 82us/step - loss: 0.6390 - acc: 0.8035 - val_loss: 1.5773 - val_acc: 0.4857\n",
      "Epoch 43/50\n",
      "50000/50000 [==============================] - 4s 76us/step - loss: 0.6190 - acc: 0.8103 - val_loss: 1.5828 - val_acc: 0.4885\n",
      "Epoch 44/50\n",
      "50000/50000 [==============================] - 4s 78us/step - loss: 0.6024 - acc: 0.8175 - val_loss: 1.6099 - val_acc: 0.4814\n",
      "Epoch 45/50\n",
      "50000/50000 [==============================] - 4s 73us/step - loss: 0.5858 - acc: 0.8241 - val_loss: 1.6050 - val_acc: 0.4834\n",
      "Epoch 46/50\n",
      "50000/50000 [==============================] - 4s 80us/step - loss: 0.5665 - acc: 0.8338 - val_loss: 1.6220 - val_acc: 0.4832\n",
      "Epoch 47/50\n",
      "50000/50000 [==============================] - 4s 76us/step - loss: 0.5518 - acc: 0.8377 - val_loss: 1.6516 - val_acc: 0.4851\n",
      "Epoch 48/50\n",
      "50000/50000 [==============================] - 4s 85us/step - loss: 0.5337 - acc: 0.8451 - val_loss: 1.6513 - val_acc: 0.4855\n",
      "Epoch 49/50\n",
      "50000/50000 [==============================] - 4s 77us/step - loss: 0.5164 - acc: 0.8537 - val_loss: 1.6728 - val_acc: 0.4873\n"
     ]
    },
    {
     "name": "stdout",
     "output_type": "stream",
     "text": [
      "Epoch 50/50\n",
      "50000/50000 [==============================] - 4s 80us/step - loss: 0.4996 - acc: 0.8600 - val_loss: 1.6798 - val_acc: 0.4864\n",
      "10000/10000 [==============================] - 2s 201us/step\n"
     ]
    }
   ],
   "source": [
    "# 載入 Callbacks\n",
    "\"\"\"Code Here\n",
    "設定 callbacks: model checkpoint\n",
    "\"\"\"\n",
    "from keras.callbacks import ModelCheckpoint\n",
    "\n",
    "model_ckpt = ModelCheckpoint(filepath=\"./tmp.h5\", \n",
    "                             monitor=\"val_loss\", \n",
    "                             save_best_only=True)\n",
    "\n",
    "results = {}\n",
    "\"\"\"Code Here\n",
    "撰寫你的訓練流程並將結果用 dictionary 紀錄\n",
    "\"\"\"\n",
    "model = build_mlp(input_shape=x_train.shape[1:])\n",
    "model.summary()\n",
    "optimizer = keras.optimizers.SGD(lr=LEARNING_RATE, nesterov=True, momentum=MOMENTUM)\n",
    "model.compile(loss=\"categorical_crossentropy\", metrics=[\"accuracy\"], optimizer=optimizer)\n",
    "\n",
    "model.fit(x_train, y_train, \n",
    "          epochs=EPOCHS, \n",
    "          batch_size=BATCH_SIZE, \n",
    "          validation_data=(x_test, y_test), \n",
    "          shuffle=True,\n",
    "          callbacks=[model_ckpt]\n",
    "         )\n",
    "\n",
    "# Collect results\n",
    "train_loss = model.history.history[\"loss\"]\n",
    "valid_loss = model.history.history[\"val_loss\"]\n",
    "train_acc = model.history.history[\"acc\"]\n",
    "valid_acc = model.history.history[\"val_acc\"]\n",
    "\n",
    "# Load back\n",
    "model = keras.models.load_model(\"./tmp.h5\")\n",
    "loss_loadback, acc_loadback = model.evaluate(x_test, y_test)\n"
   ]
  },
  {
   "cell_type": "code",
   "execution_count": 8,
   "metadata": {
    "scrolled": true
   },
   "outputs": [
    {
     "data": {
      "image/png": "[encoded data removed]",
      "text/plain": [
       "<Figure size 432x288 with 1 Axes>"
      ]
     },
     "metadata": {
      "needs_background": "light"
     },
     "output_type": "display_data"
    },
    {
     "data": {
      "image/png": "[encoded data removed]",
      "text/plain": [
       "<Figure size 432x288 with 1 Axes>"
      ]
     },
     "metadata": {
      "needs_background": "light"
     },
     "output_type": "display_data"
    }
   ],
   "source": [
    "import matplotlib.pyplot as plt\n",
    "%matplotlib inline\n",
    "\"\"\"Code Here\n",
    "將結果繪出\n",
    "\"\"\"\n",
    "\n",
    "plt.plot(range(len(train_loss)), train_loss, label=\"train loss\")\n",
    "plt.plot(range(len(valid_loss)), valid_loss, label=\"valid loss\")\n",
    "plt.hlines(y=loss_loadback, xmin=0, xmax=len(train_loss), colors='r', linestyles='--')\n",
    "plt.legend()\n",
    "plt.title(\"Loss\")\n",
    "plt.show()\n",
    "\n",
    "plt.plot(range(len(train_acc)), train_acc, label=\"train accuracy\")\n",
    "plt.plot(range(len(valid_acc)), valid_acc, label=\"valid accuracy\")\n",
    "plt.hlines(y=acc_loadback, xmin=0, xmax=len(train_loss), colors='r', linestyles='--')\n",
    "plt.legend()\n",
    "plt.title(\"Accuracy\")\n",
    "plt.show()"
   ]
  },
  {
   "cell_type": "code",
   "execution_count": null,
   "metadata": {},
   "outputs": [],
   "source": []
  }
 ],
 "metadata": {
  "kernelspec": {
   "display_name": "Python 3",
   "language": "python",
   "name": "python3"
  },
  "language_info": {
   "codemirror_mode": {
    "name": "ipython",
    "version": 3
   },
   "file_extension": ".py",
   "mimetype": "text/x-python",
   "name": "python",
   "nbconvert_exporter": "python",
   "pygments_lexer": "ipython3",
   "version": "3.7.3"
  }
 },
 "nbformat": 4,
 "nbformat_minor": 2
}
